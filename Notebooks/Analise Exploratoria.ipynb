{
 "cells": [
  {
   "cell_type": "markdown",
   "source": [
    "# Identificacao de Imagens de Satelite"
   ],
   "metadata": {}
  },
  {
   "cell_type": "code",
   "execution_count": null,
   "source": [
    "# Carregar pacotes\n",
    "\n",
    "# Quais pacotes serao utilizados? numpy, scikit-image or pillow, pycocotools\n",
    "\n",
    "############################\n",
    "###### INSERT CODE HERE ####\n",
    "############################"
   ],
   "outputs": [],
   "metadata": {}
  },
  {
   "cell_type": "markdown",
   "source": [
    "## Estrutura da pasta e arquivos"
   ],
   "metadata": {}
  },
  {
   "cell_type": "code",
   "execution_count": null,
   "source": [
    "print(\"\"\"|-- Dataset/\n",
    "|   |-- test_images/ (has all images for prediction)\n",
    "|   |-- train/\n",
    "|   |   |-- images (has all the images for training)\n",
    "|   |   |__ annotation.json : Annotation of the data in MS COCO format\n",
    "|   |   |__ annotation-small.json : Smaller version of the \"annotation.json\"\n",
    "|   |-- val/\n",
    "|   |   |-- images (has all the images for training)\n",
    "|   |   |__ annotation.json : Annotation of the data in MS COCO format\n",
    "|   |   |__ annotation-small.json : Smaller version of the \"annotation.json\" \"\"\")\n"
   ],
   "outputs": [],
   "metadata": {}
  },
  {
   "cell_type": "code",
   "execution_count": null,
   "source": [
    "# Path onde as imagens estao localizadas?\n",
    "\n",
    "############################\n",
    "###### INSERT CODE HERE ####\n",
    "\n",
    "PATH_TRAIN_IMAGES = \n",
    "PATH_TRAIN_ANNOTATIONS = \n",
    "\n",
    "############################"
   ],
   "outputs": [],
   "metadata": {}
  },
  {
   "cell_type": "code",
   "execution_count": null,
   "source": [
    "# Inicia a classe coco para trabalhar com as imagens\n",
    "coco = COCO(PATH_TRAIN_ANNOTATIONS)\n",
    "\n",
    "# Obtem os nomes das imagens e salva em uma lista\n",
    "img_ids = coco.getImgIds()\n",
    "\n",
    "# Quantas imagens temos no dataset?\n",
    "print(f'#imagens: {len(img_ids)}')"
   ],
   "outputs": [],
   "metadata": {}
  },
  {
   "cell_type": "markdown",
   "source": [
    "## Explorando uma imagem"
   ],
   "metadata": {}
  },
  {
   "cell_type": "code",
   "execution_count": null,
   "source": [
    "# Seleciona uma imagem aleatoriamente\n",
    "img_id = random.choice(img_ids)\n",
    "print(f'Imagem selecionada: {img_id}\\n')\n",
    "\n",
    "# Obtem as anotacoes para a determinada imagem\n",
    "img = coco.loadImgs(img_id)[0]\n",
    "print(f'Informacoes da imagem selecionada: {img}\\n')\n",
    "\n",
    "# Carrega as anotacoes da imagem selecionada\n",
    "ann = coco.loadAnns(coco.getAnnIds(imgIds=img['id']))\n",
    "print(f'Anotacoes da imagem selecionada: {ann[0]}\\n')"
   ],
   "outputs": [],
   "metadata": {}
  },
  {
   "cell_type": "code",
   "execution_count": null,
   "source": [
    "# Obtem o caminho da imagem\n",
    "image_path = os.path.join(PATH_TRAIN_IMAGES, img[\"file_name\"])\n",
    "\n",
    "# Faz a leitura da imagem\n",
    "I = io.imread(image_path)\n",
    "\n",
    "# Mostra a imagem\n",
    "plt.imshow(I);\n",
    "coco.showAnns(ann)"
   ],
   "outputs": [],
   "metadata": {}
  },
  {
   "cell_type": "markdown",
   "source": [
    "## Explorando mais imagens"
   ],
   "metadata": {}
  },
  {
   "cell_type": "code",
   "execution_count": null,
   "source": [
    "# Crie um codigo para visualizar 9 imagens aleatorias na mesma celula (grid)\n",
    "\n",
    "############################\n",
    "###### INSERT CODE HERE ####\n",
    "############################"
   ],
   "outputs": [],
   "metadata": {}
  }
 ],
 "metadata": {
  "orig_nbformat": 4,
  "language_info": {
   "name": "python",
   "version": "3.8.10",
   "mimetype": "text/x-python",
   "codemirror_mode": {
    "name": "ipython",
    "version": 3
   },
   "pygments_lexer": "ipython3",
   "nbconvert_exporter": "python",
   "file_extension": ".py"
  },
  "kernelspec": {
   "name": "python3",
   "display_name": "Python 3.8.10 64-bit ('mapping': conda)"
  },
  "interpreter": {
   "hash": "7c9a21a5af4096e2a97fa77480e7caaabce55ca70f22a7823c266eedbe7baa67"
  }
 },
 "nbformat": 4,
 "nbformat_minor": 2
}